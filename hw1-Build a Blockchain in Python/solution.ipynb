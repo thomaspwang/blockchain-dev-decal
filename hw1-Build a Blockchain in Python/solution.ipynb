{
 "cells": [
  {
   "cell_type": "markdown",
   "metadata": {},
   "source": [
    "# Build a Blockchain! - Blockchain Design Exercises"
   ]
  },
  {
   "cell_type": "markdown",
   "metadata": {},
   "source": [
    "This notebook is meant to be a short introduction to BlockChain implementations, aimed at helping us take the topics we learn about in fundamentals, and seeing how they translate to code. \n",
    "\n",
    "In this notebook we will implement various different aspects of BlockChain technology that we understand including: \n",
    "- The Blockchain Data Structure using OOP \n",
    "- A proof of work simulation \n",
    "- Understanding of the concpt of difficulty of finding the next block hash \n",
    "- A simulation of multiple miners with varying computational powers \n",
    "- A bit of data analytics to see if what we've implemented makes sense "
   ]
  },
  {
   "cell_type": "code",
   "execution_count": 1,
   "metadata": {},
   "outputs": [],
   "source": [
    "#Import statements\n",
    "import hashlib as hasher \n",
    "import random as rand\n",
    "import time \n",
    "import datetime as date\n",
    "import ipyparallel as ipp\n",
    "import numpy as np\n",
    "import matplotlib.pyplot as plt"
   ]
  },
  {
   "cell_type": "markdown",
   "metadata": {},
   "source": [
    "# Blockchain Data Structure Design"
   ]
  },
  {
   "cell_type": "markdown",
   "metadata": {},
   "source": [
    "In this section we will define the class \"Block\" and create an init function that creates a new block given some parameters, as well as a function hash_block, that computes the hash of this block based on its class variables. \n",
    "\n",
    "The init function is implemented for you below and creates a block with the following specifications \n",
    "- Index --> the index of the block on the chain (zero indexed)\n",
    "- Timestamp --> time that the block was added on to the chain\n",
    "- data --> The data the block contains (Usually points to root of merkel tree, but we can fill it with whatever for this)\n",
    "- previous_hash --> The hash value of the previous block \n",
    "- hash --> hash of this block computed using the hash_block function\n",
    "- nonce --> the variable value that we change to alter the hash output (Default value = 0, irrelevant in this section)\n",
    "\n",
    "****QUESTION #1: Implement hash_block()****\n",
    "\n",
    "We need to implement the hash_block() which computes the hash value of this block based on how we initialize it. This function takes in no parameters. \n",
    "\n",
    "Desired Functionality:\n",
    "- Concatenate string representations of all the class variables \n",
    "- Computes the SHA256 hash of this concatenation \n",
    "\n",
    "-- HINTS --\n",
    "\n",
    "- use the first import statement!!! \n",
    "- initialize a new hasher\n",
    "- Look into the following words \n",
    "    - utf-8 encoding \n",
    "    - .update() function \n",
    "    - .hexdigest() function\n",
    "    - In order for the test function below to work properly, create the string concatenation in the following order with no spaces or any other characters in between \n",
    "       - index\n",
    "       - timestamp\n",
    "       - data\n",
    "       - previous block hash\n",
    "       - nonce\n",
    "     - If you want to do it another order that incorporates everything thats totally fine, but test function wont work!\n",
    "\n",
    "**Do not spend too long on this, if its taking too long, shoot me a message and ask for the solutions and move forward**"
   ]
  },
  {
   "cell_type": "markdown",
   "metadata": {},
   "source": []
  },
  {
   "cell_type": "code",
   "execution_count": 2,
   "metadata": {},
   "outputs": [],
   "source": [
    "class Block:\n",
    "    def __init__(self, index, timestamp, data, previous_hash, nonce=0):\n",
    "        self.index = index\n",
    "        self.timestamp = timestamp\n",
    "        self.data = data\n",
    "        self.nonce = nonce #set to zero as default not applicable in first section \n",
    "        self.previous_hash = previous_hash\n",
    "        self.hash = self.hash_block()\n",
    "\n",
    "    def hash_block(self):\n",
    "        #Your code for QUESTION 1 Here \n",
    "        \n",
    "        sha = hasher.sha256()\n",
    "        block_hash = (str(self.index) + \n",
    "                      str(self.timestamp) + \n",
    "                      str(self.data) + \n",
    "                      str(self.previous_hash) + \n",
    "                      str(self.nonce))\n",
    "        block_hash = block_hash.encode('utf-8')\n",
    "        sha.update(block_hash)\n",
    "        return sha.hexdigest()\n"
   ]
  },
  {
   "cell_type": "markdown",
   "metadata": {},
   "source": [
    "**TEST YOUR QUESTION 1 CODE HERE**\n",
    "\n",
    "Run the block of code below"
   ]
  },
  {
   "cell_type": "code",
   "execution_count": 3,
   "metadata": {},
   "outputs": [
    {
     "name": "stdout",
     "output_type": "stream",
     "text": [
      "PASSED!!! Move on to next Question\n"
     ]
    }
   ],
   "source": [
    "def test_question_1(index, block_time, data, previous_hash):\n",
    "    new_block = Block(index, block_time, data, previous_hash)\n",
    "    check_string = '2def27922fc1c67254a9cdb0c660b91abf9b135ad38fc13c7c77007448b824a0'\n",
    "    print_statement = \"PASSED!!! Move on to next Question\" if str(new_block.hash) == check_string else \"FAILED!!! Try Again\"\n",
    "    print(print_statement)\n",
    "    \n",
    "block_time = '2019-10-17 00:37:35.256774'\n",
    "data = 'Machine Learning Blockchain AI'\n",
    "previous_hash = '6ffd1464f68ef4aeb385d399244efa19293ba5c842c464a82c02f8256ef71428'\n",
    "index = 0\n",
    "    \n",
    "test_question_1(index, block_time, data, previous_hash)"
   ]
  },
  {
   "cell_type": "markdown",
   "metadata": {},
   "source": [
    "**Functions for Building the Chain**\n",
    "\n",
    "Now that we have our class Block completed, lets figure out how to make a chain out of them. For a chain, we need to first have a function that creates a genesis block, which serves as the first block of our chain, and then create the function next_block() which builds a new block on top of a given block.\n",
    "\n",
    "create_genesis_block() has been implemented for you. It creates a block with the following specifications. \n",
    "- index = 0\n",
    "- timestamp = Now (whenever the function is being called) \n",
    "- data = \"Genesis Block\"\n",
    "- previous_hash = \"0\"\n",
    "\n",
    "**QUESTION #2: Implement next_block()**\n",
    "\n",
    "We need to implement the function next_block() which takes in 1 parameter:\n",
    "- Last_block = an instance of class Block that is the block that we're building our next block on top of \n",
    "- nonce = Dont do anything with this right now - just pass it in to the Block that you create using the default \n",
    "\n",
    "We want to implement the function so that it returns a new instance of the class Block with the following specifications\n",
    "- index = index of last_block + 1\n",
    "- timestamp = Now (whenever the function is being called)\n",
    "- data = \"Hey! I'm block {index}\"  (for example block w/ index 5 would have data: \"Hey! I'm block 5\")\n",
    "- previous_hash = hash of last_block"
   ]
  },
  {
   "cell_type": "code",
   "execution_count": 4,
   "metadata": {},
   "outputs": [],
   "source": [
    "#Creates the first block with current time and generic data\n",
    "def create_genesis_block():\n",
    "    # Manually construct a block with\n",
    "    # index zero and arbitrary previous hash\n",
    "    return Block(0, date.datetime.now(), \"Genesis Block\", \"0\")\n",
    "\n",
    "#Function that creates the next block, given the last block on the chain you want to mine on\n",
    "def next_block(last_block, nonce=0):\n",
    "    #Your code for QUESTION 2 here\n",
    "    \n",
    "    this_index = last_block.index + 1\n",
    "    this_timestamp = date.datetime.now()\n",
    "    this_data = \"Hey! I'm block \" + str(this_index)\n",
    "    this_prevhash = last_block.hash\n",
    "    return Block(this_index, this_timestamp, this_data, this_prevhash)\n",
    "    "
   ]
  },
  {
   "cell_type": "markdown",
   "metadata": {},
   "source": [
    "**TEST YOUR QUESTION 2 CODE HERE**\n",
    "\n",
    "Run the block of code below"
   ]
  },
  {
   "cell_type": "code",
   "execution_count": 5,
   "metadata": {},
   "outputs": [
    {
     "name": "stdout",
     "output_type": "stream",
     "text": [
      "PASSED!!! Move on to next part\n"
     ]
    }
   ],
   "source": [
    "def test_question_2(genesis_block):\n",
    "    block_1 = next_block(genesis_block)\n",
    "    if block_1.index == 1 and block_1.data == \"Hey! I'm block 1\" and block_1.previous_hash == genesis_block.hash and str(type(block_1.timestamp)) == \"<class 'datetime.datetime'>\":\n",
    "        print(\"PASSED!!! Move on to next part\" )\n",
    "    else:\n",
    "        print(\"FAILED!!! Try again :(\")\n",
    "    \n",
    "\n",
    "genesis_block = create_genesis_block()\n",
    "test_question_2(genesis_block)"
   ]
  },
  {
   "cell_type": "markdown",
   "metadata": {},
   "source": [
    "**Spinning up a Chain**\n",
    "\n",
    "Now that we've created the data structure as well as the functions needed to create the chain, lets see how spinning up an actual instance of this would work. \n",
    "\n",
    "Below we initialize three different variables \n",
    "- blockchain - this is a python list which we initialize with one block inside (the genesis block) \n",
    "- previous_block - this points to our genesis block (since it references the first element in blockchain)\n",
    "- num_blocks - this specifies the number of additional blocks we want to add to our chain \n",
    "\n",
    "**QUESTION 3 complete_chain()**\n",
    "\n",
    "We want to complete the implementation of the function complete_chain(). This function takes in three inputs, which correspond to the initializations that we made. It returns nothing, however by the time we are done running it, the list 'blockchain' that we initialized earlier has been turned into an array of length num_blocks + 1 in which each element is an instance of class Block and each element's self.previous_hash == the previous element's self.hash. Therefore we have created our own mini blockchain!! \n",
    "\n",
    "The for loop and the print statements of complete_chain have been implemented for you, you need to add the statements that ***create a new block on top of previous_block, add it to the block chain, and edit previous block so that the for loop can continue correctly*** \n",
    "\n",
    "****HINT **** --> Literally just do all the things I listed in the section immediately above in order \n",
    "\n",
    "If it works out, you should get the same number of print statements as num_blocks"
   ]
  },
  {
   "cell_type": "code",
   "execution_count": 6,
   "metadata": {},
   "outputs": [
    {
     "name": "stdout",
     "output_type": "stream",
     "text": [
      "Block #1 has been added to the blockchain!\n",
      "Hash: 9a94ef2b573fb86e671ed1a894c047616f068440217d9ffdecc9b5b023db8c27\n",
      "\n",
      "Block #2 has been added to the blockchain!\n",
      "Hash: a3004145fb690b629461a5a685f513ba12c2632fe3cfb25ffb49ce67fcd6d8bd\n",
      "\n",
      "Block #3 has been added to the blockchain!\n",
      "Hash: 8ee34c3884647dfbc27fa6cae8ded24f94540b9ba44ad75e8a1bccf2cb103a70\n",
      "\n",
      "Block #4 has been added to the blockchain!\n",
      "Hash: b1d4753493a1dc94d86f938534108f2118c49969af955cb02a23a8c20dd116c8\n",
      "\n",
      "Block #5 has been added to the blockchain!\n",
      "Hash: db3a272a17e4c3a42a86640442c32e898431682c194b41a03c6de179d98e77bd\n",
      "\n",
      "Block #6 has been added to the blockchain!\n",
      "Hash: 69f1021dd10b05f7fc364e702c6a5f73bcb46b060b89782ddfb8abdde3f1a56a\n",
      "\n",
      "Block #7 has been added to the blockchain!\n",
      "Hash: 35f11285d52f5c0783144edc01322dd11f1c1c2b9744a48ca0ef832ef817eeee\n",
      "\n",
      "Block #8 has been added to the blockchain!\n",
      "Hash: 939989023af0526c086858d41b6ad412a7b2f3322afa81444682cfed802c3a65\n",
      "\n",
      "Block #9 has been added to the blockchain!\n",
      "Hash: a4aae1d52f5efe6ef9675370b54b0248b68279be61f8bda21943a4072aedc5e3\n",
      "\n",
      "Block #10 has been added to the blockchain!\n",
      "Hash: 905f5b21c140bc600b300de63f6264bb9aba38221ff1140a0da4820fae7ab69d\n",
      "\n",
      "Block #11 has been added to the blockchain!\n",
      "Hash: 35e8d9ded6cbb601d37ef5e8959b1cc41a1bc290b099ece75d34c5c63e7344d5\n",
      "\n",
      "Block #12 has been added to the blockchain!\n",
      "Hash: fa4d2496fdd06337c39ee903cb7cafe8c8ccd7589df4546b17876153f35d7a00\n",
      "\n",
      "Block #13 has been added to the blockchain!\n",
      "Hash: d789da235bb8f7e7c527cc1a1c86dab8038b27d3ab2b645023ad5eccdbb3710c\n",
      "\n",
      "Block #14 has been added to the blockchain!\n",
      "Hash: 58619f0523eb08869b976b5d00c1cfbc12fe44cf8ce31e35958e037ad71b7a7e\n",
      "\n",
      "Block #15 has been added to the blockchain!\n",
      "Hash: 64538b36299d81faa824719b302dd26429735b158a8f4757e8cb716f5360e55a\n",
      "\n",
      "Block #16 has been added to the blockchain!\n",
      "Hash: 06396605d2ea60d224fce7cfde21af1d2759803ab49471b22db96b64122ceed4\n",
      "\n",
      "Block #17 has been added to the blockchain!\n",
      "Hash: e7c8d8b1b5eb439e01f0d23ce5e4c55275b8303551506daa5e754800f13d34cb\n",
      "\n",
      "Block #18 has been added to the blockchain!\n",
      "Hash: 1b6dfb60a160ea0b3a1208c742853a8ecce6e5e24268d83a66490a51157f12a9\n",
      "\n",
      "Block #19 has been added to the blockchain!\n",
      "Hash: b78e84f442781b500af0d71d072e81b7efc10ad8b2fda31a0bbed0d3c10436b6\n",
      "\n",
      "Block #20 has been added to the blockchain!\n",
      "Hash: 4792b4b7c5918f0b32d8232224c2f9d984e95a7f482d2aa1dc1b1525d4b1ede2\n",
      "\n"
     ]
    }
   ],
   "source": [
    "# Create the blockchain and add the genesis block\n",
    "blockchain = [create_genesis_block()]\n",
    "\n",
    "#Create our initial reference to previous block which points to the genesis block\n",
    "previous_block = blockchain[0]\n",
    "\n",
    "# How many blocks should we add to the chain after the genesis block\n",
    "num_blocks = 20\n",
    "\n",
    "def complete_chain(num_blocks, blockchain, previous_block):\n",
    "    # Add blocks to the chain\n",
    "    for i in range(0, num_blocks):\n",
    "        \n",
    "        #Your code for QUESTION 3 Here \n",
    "        block_to_add = next_block(previous_block)\n",
    "        blockchain.append(block_to_add)\n",
    "        previous_block = block_to_add\n",
    "        \n",
    "        #Your code for QUESTION 3 ends Here\n",
    "        # Tell everyone about it!\n",
    "        print(\"Block #{} has been added to the blockchain!\".format(block_to_add.index))\n",
    "        print(\"Hash: {}\\n\".format(block_to_add.hash))\n",
    "\n",
    "complete_chain(num_blocks, blockchain, previous_block)"
   ]
  },
  {
   "cell_type": "markdown",
   "metadata": {},
   "source": [
    "**TEST YOUR QUESTION 3 CODE HERE**\n",
    "\n",
    "Run the block of code below"
   ]
  },
  {
   "cell_type": "code",
   "execution_count": 7,
   "metadata": {},
   "outputs": [
    {
     "name": "stdout",
     "output_type": "stream",
     "text": [
      "PASSED!!! Move on to the next Part\n"
     ]
    }
   ],
   "source": [
    "def test_question_3(blockchain, num_blocks):\n",
    "    correct = True\n",
    "    if len(blockchain) != num_blocks + 1:\n",
    "        correct = False\n",
    "    for i in range(len(blockchain)-1):\n",
    "        if blockchain[i + 1].previous_hash != blockchain[i].hash:\n",
    "            correct = False\n",
    "            break\n",
    "    print_statement = \"PASSED!!! Move on to the next Part\" if correct else \"FAILED!!! Try Again :(\"\n",
    "    print(print_statement)\n",
    "\n",
    "test_question_3(blockchain, num_blocks)"
   ]
  },
  {
   "cell_type": "markdown",
   "metadata": {},
   "source": [
    "# Proof of Work Simulation"
   ]
  },
  {
   "cell_type": "markdown",
   "metadata": {},
   "source": [
    "In this section we will be doing a simulation of the proof-of-work consensus mechanism that the Bitcoin Blockchain (among others) uses. Let us define some of the concepts that we will be dealing with in this section. \n",
    "\n",
    "**The Nonce** --> Randomly generated value that we add to our concatenation of our block to add variance to our hashes\n",
    "**Difficulty** --> Specified by the network (in theory, here it is specified by us). Defines the number of hashes that are valid out of all possible values. Higher difficulty indicates a lower number of valid hashes. \n",
    "\n",
    "**QUESTION 4: generate_nonce(), generate_difficulty_bound(), find_next_block()**\n",
    "\n",
    "**Part 1 - Description** \n",
    "\n",
    "The functions **generate_nonce()** and **generate_difficulty_bound()** have been implemented below for you. The first part of this question involves reading through, them understanding them completely, and writing a quick 1 - 2 line summary of what they are supposed to do and how they are implemented (write it in the space given, 2 cells below).\n",
    "\n",
    "**Part 2 - Implementation**\n",
    "\n",
    "The second part of this question is to complete the implementation of find_next_block(). This function's purpose is to try different blocks with the same data, index etc. but different nonces that satisfy the difficulty metric specified. The difficulty bound has already been generated for you and the first block has been created. You have to complete the implementation so that: \n",
    "- You find a nonce such that the hash of the block is less than the difficulty bound. \n",
    "- All data from new block has to be the same (including the timestamp, for simplicity purposes) and the only thing changing is the nonce \n",
    "- For our learning purposes, increment the hashes_tried parameter appropriately everytime you try a hash so that we can see the number of hashes tried and how this correlates to our difficulty value. \n",
    "\n",
    "**HINTS**\n",
    "- How do you turn a hash string into its hex prepresentation that you can compare???\n",
    "- if your implementation is working, you should notice something interesting about all the hashes of the blocks that you are getting when you run the code cell labeled \"Create Proof of work Blockchain\"**\n",
    "\n",
    "\n",
    "\n",
    "**you can test question 4 in the a few cells below this one, after running all the cells in between**"
   ]
  },
  {
   "cell_type": "code",
   "execution_count": null,
   "metadata": {},
   "outputs": [],
   "source": []
  },
  {
   "cell_type": "code",
   "execution_count": 1,
   "metadata": {},
   "outputs": [],
   "source": [
    "def generate_nonce(length=20):\n",
    "    return ''.join([str(rand.randint(0, 9)) for i in range(length)])\n",
    "\n",
    "def generate_difficulty_bound(difficulty=1):\n",
    "    diff_str = \"\"\n",
    "    for i in range(difficulty):\n",
    "        diff_str += '0'\n",
    "    for i in range(64 - difficulty):\n",
    "        diff_str += 'F'\n",
    "    diff_str = \"0x\" + diff_str  # \"0x\" needs to be added at the front to specify that it is a hex representation\n",
    "    return(int(diff_str, 16))  # Specifies that we want to create an integer of base 16 (as opposed to the default  base 10)\n",
    "\n",
    "#Given a previous block and a difficulty metric, finds a nonce that results in a lower hash value\n",
    "def find_next_block(last_block, difficulty, nonce_length):\n",
    "    difficulty_bound = generate_difficulty_bound(difficulty)\n",
    "    start = time.process_time() \n",
    "    new_block = next_block(last_block)\n",
    "    hashes_tried = 1 \n",
    "    #Your code for QUESTION 4 Starts here \n",
    "    while int(new_block.hash, 16) > difficulty_bound:\n",
    "        nonce = generate_nonce(nonce_length)\n",
    "        new_block = Block(new_block.index, new_block.timestamp, new_block.data, new_block.previous_hash, nonce)\n",
    "        hashes_tried += 1 \n",
    "    #Your code for QUESTION 4 Ends here \n",
    "    time_taken = time.process_time() - start\n",
    "    return(time_taken, hashes_tried, new_block)"
   ]
  },
  {
   "cell_type": "markdown",
   "metadata": {},
   "source": [
    "**QUESTION 4 Description Section**\n",
    "\n",
    "Describe the following functions: \n",
    "\n",
    "- generate_nonce():         ######Your Description Here######\n",
    "\n",
    "- generate_difficulty_bound():        ######Your Description Here######"
   ]
  },
  {
   "cell_type": "markdown",
   "metadata": {},
   "source": [
    "The cell below creates our proof of work blockchain in a similar way that we do in the earlier section. \n",
    "\n",
    "Some initializations:\n",
    "- blockchain_pow: Our new python list that signifies our proof of work blockchain, with the genesis block inside\n",
    "- previous_block: The first block to use as previous block to build upon\n",
    "- num_blocks: number of additional blocks to add to teh chain\n",
    "- difficulty: difficulty of the network \n",
    "- nonce_length: length of the randomly generated nonce"
   ]
  },
  {
   "cell_type": "markdown",
   "metadata": {},
   "source": [
    "### Create Proof of Work Blockchain "
   ]
  },
  {
   "cell_type": "code",
   "execution_count": 9,
   "metadata": {},
   "outputs": [
    {
     "name": "stdout",
     "output_type": "stream",
     "text": [
      "Block #1 has been added to the blockchain!\n",
      "7473 Hashes Tried!\n",
      "Time taken to find block: 0.234375\n",
      "Hash: 00073139847b4de271b2fbf2f8dfa63006c3bbe61cf683aef9c9fce79e46904d\n",
      "\n",
      "Block #2 has been added to the blockchain!\n",
      "10290 Hashes Tried!\n",
      "Time taken to find block: 0.453125\n",
      "Hash: 0008820a57fddbb390a8e8345f330f1bb94a5ba0f924417a12ed31d886ff624f\n",
      "\n",
      "Block #3 has been added to the blockchain!\n",
      "6236 Hashes Tried!\n",
      "Time taken to find block: 0.28125\n",
      "Hash: 000d3cffb31ced7c109eb2d10d3b4db0049ee751eea45f99fdc30d933785d133\n",
      "\n",
      "Block #4 has been added to the blockchain!\n",
      "944 Hashes Tried!\n",
      "Time taken to find block: 0.03125\n",
      "Hash: 0000d3ea7641758456e487f586fc6125a78f7dd0b7912a9db661e43aa83ac6b6\n",
      "\n",
      "Block #5 has been added to the blockchain!\n",
      "11785 Hashes Tried!\n",
      "Time taken to find block: 0.484375\n",
      "Hash: 000fbde76fbc8398770f70e2e5d2e9b1ec1e8e2ff36b6bee4e4f03b6fdf1ebc7\n",
      "\n",
      "Block #6 has been added to the blockchain!\n",
      "14930 Hashes Tried!\n",
      "Time taken to find block: 0.46875\n",
      "Hash: 000ba415e7edc5d319f05aa0a6856d752ec5e2a399f0ca63419310cfca1ee56b\n",
      "\n",
      "Block #7 has been added to the blockchain!\n",
      "2524 Hashes Tried!\n",
      "Time taken to find block: 0.09375\n",
      "Hash: 00048e4ca87cd8be8a183d89605a68b5d3d27d91c78122f28fc6e638062a0641\n",
      "\n",
      "Block #8 has been added to the blockchain!\n",
      "513 Hashes Tried!\n",
      "Time taken to find block: 0.015625\n",
      "Hash: 000ae8db8883f73574ba6bc7120551b73d7ecdfce16e984dcc81bddc8290d6f0\n",
      "\n",
      "Block #9 has been added to the blockchain!\n",
      "700 Hashes Tried!\n",
      "Time taken to find block: 0.03125\n",
      "Hash: 000613cda77921e418a3f85249f342ce61e959403a1626a1d5066d4c661a0e5c\n",
      "\n",
      "Block #10 has been added to the blockchain!\n",
      "2586 Hashes Tried!\n",
      "Time taken to find block: 0.0625\n",
      "Hash: 00085d4f11516fa4964ae03a3e18d373e57c3ca97fa7bca11480b464b3c1f8c1\n",
      "\n",
      "Block #11 has been added to the blockchain!\n",
      "2603 Hashes Tried!\n",
      "Time taken to find block: 0.09375\n",
      "Hash: 0003012d93da73fd3016522add75457257dd94d9f07b8ef727be1feff13cfd53\n",
      "\n",
      "Block #12 has been added to the blockchain!\n",
      "8774 Hashes Tried!\n",
      "Time taken to find block: 0.3125\n",
      "Hash: 0001e311a85201e8f7fadeb25c0bceb4d2811d31b0db70d12def955c384a0108\n",
      "\n",
      "Block #13 has been added to the blockchain!\n",
      "3697 Hashes Tried!\n",
      "Time taken to find block: 0.109375\n",
      "Hash: 000aa4eeacf628f8d797e0ff09e2cb59c24a88f7bd4f7068ec56fe71b0da9b66\n",
      "\n",
      "Block #14 has been added to the blockchain!\n",
      "4439 Hashes Tried!\n",
      "Time taken to find block: 0.140625\n",
      "Hash: 0007f937e9f05ca822c76d59c033faf00f80b4c20f84e097939ee9044e5461ff\n",
      "\n",
      "Block #15 has been added to the blockchain!\n",
      "569 Hashes Tried!\n",
      "Time taken to find block: 0.03125\n",
      "Hash: 00013239474cc9e8f57b160f300451414db89ffcb1bad490d40b6b20d86628c2\n",
      "\n",
      "Block #16 has been added to the blockchain!\n",
      "9469 Hashes Tried!\n",
      "Time taken to find block: 0.359375\n",
      "Hash: 0002307b8841ad21eae6dfd1e794564e1f708f02b8ad90aa2e581406dca4ce74\n",
      "\n",
      "Block #17 has been added to the blockchain!\n",
      "8728 Hashes Tried!\n",
      "Time taken to find block: 0.359375\n",
      "Hash: 000383aae12862491e93b53b33a502a8ab2755ac674f21e5dc5ba20b97a8a5b1\n",
      "\n",
      "Block #18 has been added to the blockchain!\n",
      "3311 Hashes Tried!\n",
      "Time taken to find block: 0.125\n",
      "Hash: 000005f8e05070bc78df0d22dfb320be45c793f58f78345426b7d00a2f24f336\n",
      "\n",
      "Block #19 has been added to the blockchain!\n",
      "104 Hashes Tried!\n",
      "Time taken to find block: 0.0\n",
      "Hash: 000542874874213e15b3531b7592a2ae24f8b86b466ee783bd58c51c0f6f552c\n",
      "\n",
      "Block #20 has been added to the blockchain!\n",
      "4936 Hashes Tried!\n",
      "Time taken to find block: 0.1875\n",
      "Hash: 000e14132ec5165362d02aa240c8ad886118d27fe6410a9e6f6d3976370d144d\n",
      "\n"
     ]
    }
   ],
   "source": [
    "# Create the blockchain and add the genesis block\n",
    "blockchain_pow = [create_genesis_block()]\n",
    "\n",
    "#Create our initial reference to previous block which points to the genesis block\n",
    "previous_block = blockchain_pow[0]\n",
    "\n",
    "# How many blocks should we add to the chain after genesis block\n",
    "num_blocks = 20\n",
    "\n",
    "#magnitude of difficulty of hash - number of zeroes that must be in the beginning of the hash\n",
    "difficulty = 3\n",
    "\n",
    "#length of nonce that will be generated and added\n",
    "nonce_length = 20\n",
    "\n",
    "# Add blocks to the chain based on difficulty with nonces of length nonce_length\n",
    "def create_pow_blockchain(num_blocks, difficulty, blockchain_pow, previous_block, nonce_length, print_data=1):\n",
    "    hash_array = []\n",
    "    time_array = []\n",
    "    for i in range(0, num_blocks):\n",
    "        time_taken, hashes_tried, block_to_add = find_next_block(previous_block, difficulty, nonce_length)\n",
    "        blockchain_pow.append(block_to_add)\n",
    "        previous_block = block_to_add\n",
    "        hash_array.append(hashes_tried)\n",
    "        time_array.append(time_taken)\n",
    "        # Tell everyone about it!\n",
    "        if print_data:\n",
    "            print(\"Block #{} has been added to the blockchain!\".format(block_to_add.index))\n",
    "            print(\"{} Hashes Tried!\".format(hashes_tried))\n",
    "            print(\"Time taken to find block: {}\".format(time_taken))\n",
    "            print(\"Hash: {}\\n\".format(block_to_add.hash))\n",
    "    return(hash_array, time_array)\n",
    "\n",
    "hash_array, time_array = create_pow_blockchain(num_blocks, difficulty, blockchain_pow, previous_block, nonce_length)"
   ]
  },
  {
   "cell_type": "markdown",
   "metadata": {},
   "source": [
    "**TEST YOUR QUESTION 4 CODE HERE**\n",
    "\n",
    "Run the block of code below"
   ]
  },
  {
   "cell_type": "code",
   "execution_count": 10,
   "metadata": {},
   "outputs": [
    {
     "name": "stdout",
     "output_type": "stream",
     "text": [
      "PASSED!!! Move on to the next Part\n"
     ]
    }
   ],
   "source": [
    "def test_question_4(blockchain_pow, num_blocks):\n",
    "    correct = True\n",
    "    bound = generate_difficulty_bound(difficulty)\n",
    "    if len(blockchain_pow) != num_blocks + 1:\n",
    "        correct = False\n",
    "    for i in range(len(blockchain_pow) - 1):\n",
    "        if blockchain_pow[i + 1].previous_hash != blockchain_pow[i].hash:\n",
    "            correct = False\n",
    "            break\n",
    "        if int(blockchain_pow[i + 1].hash, 16) > bound:\n",
    "            correct = False\n",
    "            break\n",
    "    print_statement = \"PASSED!!! Move on to the next Part\" if correct else \"FAILED!!! Try Again :(\"\n",
    "    print(print_statement)\n",
    "            \n",
    "test_question_4(blockchain_pow, num_blocks)"
   ]
  },
  {
   "cell_type": "markdown",
   "metadata": {},
   "source": [
    "Once you have passed the above test case, you can do things like play around with the difficulties and nonce lengths and seeing that happens "
   ]
  },
  {
   "cell_type": "markdown",
   "metadata": {},
   "source": [
    "# Distributed Network + Compute Power Simulation"
   ]
  },
  {
   "cell_type": "markdown",
   "metadata": {},
   "source": [
    "In this section, instead of simulating a single node that carries out all the proof of work calculations, we will create a bunch of different nodes that will all compete to find different blocks. These nodes will all have different compute powers that we will be able to specify. Below we will define the MinerNodeNaive class which has an init function to create an instance, as well as a try_hash function that allows it to try a hash and see if it works. "
   ]
  },
  {
   "cell_type": "code",
   "execution_count": 296,
   "metadata": {
    "collapsed": true
   },
   "outputs": [],
   "source": [
    "#Naive miner class that races with other miners to see who can get a certain number of blocks first \n",
    "class MinerNodeNaive: \n",
    "    def __init__(self, name, compute):\n",
    "        self.name = name \n",
    "        self.compute = compute\n",
    "    \n",
    "    def try_hash(self, diff_value, chain):\n",
    "        last_block = chain[-1]\n",
    "        difficulty = generate_difficulty_bound(diff_value)\n",
    "        date_now = date.datetime.now()\n",
    "        this_index = last_block.index + 1\n",
    "        this_timestamp = date_now\n",
    "        this_data = \"Hey! I'm block \" + str(this_index)\n",
    "        this_hash = last_block.hash\n",
    "        new_block = Block(this_index, this_timestamp, this_data, this_hash)\n",
    "        if int(new_block.hash, 16) < difficulty:\n",
    "            chain.append(new_block)\n",
    "            # Tell everyone about it!\n",
    "            print(\"Block #{} has been added to the blockchain!\".format(new_block.index))\n",
    "            print(\"Block found by: {}\".format(self.name))\n",
    "            print(\"Hash: {}\\n\".format(new_block.hash))\n",
    "        "
   ]
  },
  {
   "cell_type": "markdown",
   "metadata": {},
   "source": [
    "**Question #5: Describe the Following Cells**\n",
    "\n",
    "In the next 4 cells I try to simulate a bunch of different miners with different compute powers. However this isn't completely indicative of how a real system works, and is limited by what I had to work with. Read through the code, and run all of the cells and explain what is happening in a paragrpah. Also explain how this is different from real world vanilla proof of work systems and how this simulation isn't completely accurate of what's actually happening while nodes race to find the next block. There is a cell at the bottom where you can enter your description.  "
   ]
  },
  {
   "cell_type": "code",
   "execution_count": 297,
   "metadata": {
    "collapsed": true
   },
   "outputs": [],
   "source": [
    "#Initialize multiple miners on the network \n",
    "berkeley_Miner = MinerNodeNaive(\"Berkeley Miner\", 10)\n",
    "stanford_Miner = MinerNodeNaive(\"Stanford Miner\", 5)\n",
    "MIT_Miner = MinerNodeNaive(\"MIT Miner\", 2)\n",
    "UCLA_Miner = MinerNodeNaive(\"UCLA Miner\", 1)\n",
    "\n",
    "miner_array = [berkeley_Miner, stanford_Miner, MIT_Miner, UCLA_Miner]"
   ]
  },
  {
   "cell_type": "code",
   "execution_count": 298,
   "metadata": {
    "collapsed": true
   },
   "outputs": [],
   "source": [
    "def create_compute_simulation(miner_array):\n",
    "    compute_array = []\n",
    "    for miner in miner_array:\n",
    "        for i in range(miner.compute):\n",
    "            compute_array.append(miner.name)\n",
    "    return(compute_array)\n",
    "\n",
    "compute_simulation_array = create_compute_simulation(miner_array)\n",
    "rand.shuffle(compute_simulation_array)"
   ]
  },
  {
   "cell_type": "code",
   "execution_count": 299,
   "metadata": {
    "collapsed": true
   },
   "outputs": [],
   "source": [
    "chain_length = 20\n",
    "blockchain_distributed = [create_genesis_block()]\n",
    "genesis_block_dist = blockchain_distributed[0]\n",
    "chain_difficulty = [rand.randint(2,4) for i in range(chain_length)]"
   ]
  },
  {
   "cell_type": "code",
   "execution_count": 300,
   "metadata": {},
   "outputs": [
    {
     "name": "stdout",
     "output_type": "stream",
     "text": [
      "Block #1 has been added to the blockchain!\n",
      "Block found by: MIT Miner\n",
      "Hash: 000030fa4c721eecf14a003fb5ffb43656f5266b139dd0028dd6b18ba4560945\n",
      "\n",
      "Block #2 has been added to the blockchain!\n",
      "Block found by: Berkeley Miner\n",
      "Hash: 00c90ea5459337e19a96669311a708bbb886dc187a75dc090babf1f32a3d8874\n",
      "\n",
      "Block #3 has been added to the blockchain!\n",
      "Block found by: Berkeley Miner\n",
      "Hash: 0000e3c5a4440e2c0b666b808b52f0ff4d8bf70d89b50fce09c7e4a3a3d80859\n",
      "\n",
      "Block #4 has been added to the blockchain!\n",
      "Block found by: MIT Miner\n",
      "Hash: 0000bb89f09baf46206c9de458c1f522027b19aa35a62443a0cf0c5b952676d8\n",
      "\n",
      "Block #5 has been added to the blockchain!\n",
      "Block found by: MIT Miner\n",
      "Hash: 005a3495066c0c3fbb2ae3495c5adb778c1e1eff8d8f544d2601c868a0ecde43\n",
      "\n",
      "Block #6 has been added to the blockchain!\n",
      "Block found by: Berkeley Miner\n",
      "Hash: 0000cc353dd04eeda9a35c61f17bb78003300ce1a521c02a9c36885635061499\n",
      "\n",
      "Block #7 has been added to the blockchain!\n",
      "Block found by: Berkeley Miner\n",
      "Hash: 000010ccbacc9b435be8a64a463534215720411d714ecb3071292be813a70394\n",
      "\n",
      "Block #8 has been added to the blockchain!\n",
      "Block found by: MIT Miner\n",
      "Hash: 000c76883b4edd7e16411fd1651ee6bd1eead13a0961d6efad350034209250d8\n",
      "\n",
      "Block #9 has been added to the blockchain!\n",
      "Block found by: Berkeley Miner\n",
      "Hash: 0000b9eb9d77a0c4812290b7739d7e811db3a931c2dc6ebef29f102f70867b68\n",
      "\n",
      "Block #10 has been added to the blockchain!\n",
      "Block found by: Berkeley Miner\n",
      "Hash: 0000758ad9ef58519404ae398b27d8edeb5e14d0aec8d8a2b0e346d7e6f11407\n",
      "\n",
      "Block #11 has been added to the blockchain!\n",
      "Block found by: Stanford Miner\n",
      "Hash: 00ed477a799c6524c64d1e51d3125ab69b73486b178f34b1b33f32cbc59afc77\n",
      "\n",
      "Block #12 has been added to the blockchain!\n",
      "Block found by: Berkeley Miner\n",
      "Hash: 0060933d85427dfbfbb7402a8809487cb38933d84f209c14032a1ad0bd2a5331\n",
      "\n",
      "Block #13 has been added to the blockchain!\n",
      "Block found by: Berkeley Miner\n",
      "Hash: 0000430ed8cf4b728ae90d19fa8a8960e41e14502d3a90d1d683d0b2869ba843\n",
      "\n",
      "Block #14 has been added to the blockchain!\n",
      "Block found by: Berkeley Miner\n",
      "Hash: 00002975ee6f1c41f318528417ac219cb5e1ca6d52927b306d8138e33220b178\n",
      "\n",
      "Block #15 has been added to the blockchain!\n",
      "Block found by: MIT Miner\n",
      "Hash: 0007a0b94040590902948b6cb31bbcd740728c3dbcf0d6419af190641b309c7a\n",
      "\n",
      "Block #16 has been added to the blockchain!\n",
      "Block found by: Berkeley Miner\n",
      "Hash: 0004c08abf97974166738d94e7e527278962b24431780305b8be8bc06531a825\n",
      "\n",
      "Block #17 has been added to the blockchain!\n",
      "Block found by: Berkeley Miner\n",
      "Hash: 00009262c230933affff714487036db91017ca9c05598dcc496c63ea7854bdfc\n",
      "\n",
      "Block #18 has been added to the blockchain!\n",
      "Block found by: MIT Miner\n",
      "Hash: 000066e93cc73808ce909f6e41f9408d0c88aa19165a44f7d4321bd07c0ae1b9\n",
      "\n",
      "Block #19 has been added to the blockchain!\n",
      "Block found by: Stanford Miner\n",
      "Hash: 0000f79a8578b385567cdb7aff5839579dfa7eea416240a1cab54de212cf90e5\n",
      "\n",
      "Block #20 has been added to the blockchain!\n",
      "Block found by: Stanford Miner\n",
      "Hash: 007888186162a23f8c0419437246a813d2426e5be4e1ec7d1f57f3104ab6dd9a\n",
      "\n"
     ]
    }
   ],
   "source": [
    "for i in range(len(chain_difficulty)): \n",
    "    while len(blockchain_distributed) < i + 2:\n",
    "        next_miner_str = rand.sample(compute_simulation_array, 1)[0] \n",
    "        next_miner = berkeley_Miner #random default (go bears)\n",
    "        for miner in miner_array:\n",
    "            if next_miner_str == miner.name:\n",
    "                next_miner = miner\n",
    "        next_miner.try_hash(chain_difficulty[i], blockchain_distributed)\n",
    "        "
   ]
  },
  {
   "cell_type": "markdown",
   "metadata": {},
   "source": [
    "**Question 5 Description Here**\n",
    "\n",
    "- Description: **#####Your description here####**"
   ]
  },
  {
   "cell_type": "markdown",
   "metadata": {
    "collapsed": true
   },
   "source": [
    "# Blockchain Data Analytics"
   ]
  },
  {
   "cell_type": "markdown",
   "metadata": {
    "collapsed": true
   },
   "source": [
    "Here we will use data analytics to analyze the number of hashes we need to try before we find a valid hash, given a difficulty level. Look through the code briefly (in depth is not necessary), run all of the cells, and answer the question at the bottom. (difficulty level 3 takes a bit of time so dont be alarmed if this next cell takes a bit of time to run). "
   ]
  },
  {
   "cell_type": "code",
   "execution_count": 18,
   "metadata": {},
   "outputs": [
    {
     "name": "stdout",
     "output_type": "stream",
     "text": [
      "Difficulty Level: 1 complete\n",
      "Difficulty Level: 2 complete\n",
      "Difficulty Level: 3 complete\n",
      "Difficulty Level: 4 complete\n"
     ]
    }
   ],
   "source": [
    "blockchain = [create_genesis_block()]\n",
    "previous_block = blockchain[0]\n",
    "num_blocks = 10\n",
    "\n",
    "#3 different types of difficulty to analyze\n",
    "difficulty_0 = 1\n",
    "difficulty_1 = 2\n",
    "difficulty_2 = 3\n",
    "difficulty_3 = 4\n",
    "\n",
    "nonce_length = 20\n",
    "\n",
    "hash_array_0, time_array_0 = create_pow_blockchain(num_blocks, difficulty_0, blockchain, previous_block, nonce_length, 0)\n",
    "print(\"Difficulty Level: {} complete\".format(difficulty_0))\n",
    "hash_array_1, time_array_1 = create_pow_blockchain(num_blocks, difficulty_1, blockchain, previous_block, nonce_length, 0)\n",
    "print(\"Difficulty Level: {} complete\".format(difficulty_1))\n",
    "hash_array_2, time_array_2 = create_pow_blockchain(num_blocks, difficulty_2, blockchain, previous_block, nonce_length, 0)\n",
    "print(\"Difficulty Level: {} complete\".format(difficulty_2))\n",
    "hash_array_3, time_array_3 = create_pow_blockchain(num_blocks, difficulty_3, blockchain, previous_block, nonce_length, 0)\n",
    "print(\"Difficulty Level: {} complete\".format(difficulty_3))"
   ]
  },
  {
   "cell_type": "code",
   "execution_count": 21,
   "metadata": {
    "collapsed": true
   },
   "outputs": [],
   "source": [
    "mean_arr_hash = [np.mean(hash_array_0), np.mean(hash_array_1), np.mean(hash_array_2), np.mean(hash_array_3)]\n",
    "mean_arr_time = [np.mean(time_array_0), np.mean(time_array_1), np.mean(time_array_2), np.mean(time_array_3)]"
   ]
  },
  {
   "cell_type": "code",
   "execution_count": 22,
   "metadata": {},
   "outputs": [
    {
     "data": {
      "image/png": "[encoded data removed]",
      "text/plain": [
       "<matplotlib.figure.Figure at 0x10861f8d0>"
      ]
     },
     "metadata": {},
     "output_type": "display_data"
    }
   ],
   "source": [
    "plt.plot(mean_arr_hash)\n",
    "plt.show()"
   ]
  },
  {
   "cell_type": "code",
   "execution_count": 23,
   "metadata": {},
   "outputs": [
    {
     "data": {
      "image/png": "[encoded data removed]",
      "text/plain": [
       "<matplotlib.figure.Figure at 0x11153d668>"
      ]
     },
     "metadata": {},
     "output_type": "display_data"
    }
   ],
   "source": [
    "plt.plot(mean_arr_time)\n",
    "plt.show()"
   ]
  },
  {
   "cell_type": "code",
   "execution_count": 26,
   "metadata": {},
   "outputs": [
    {
     "name": "stdout",
     "output_type": "stream",
     "text": [
      "Factor of difficulty increase from 1 to 2: 13.25943396226415\n",
      "Factor of difficulty increase from 2 to 3: 21.0511383849164\n",
      "Factor of difficulty increase from 3 to 4: 17.808068475151988\n"
     ]
    }
   ],
   "source": [
    "diff_factor_1 = np.mean(hash_array_1)/np.mean(hash_array_0)\n",
    "diff_factor_2 = np.mean(hash_array_2)/np.mean(hash_array_1)\n",
    "diff_factor_3 = np.mean(hash_array_3)/np.mean(hash_array_2)\n",
    "print(\"Factor of difficulty increase from 1 to 2: {}\".format(diff_factor_1))\n",
    "print(\"Factor of difficulty increase from 2 to 3: {}\".format(diff_factor_2))\n",
    "print(\"Factor of difficulty increase from 3 to 4: {}\".format(diff_factor_3))"
   ]
  },
  {
   "cell_type": "markdown",
   "metadata": {},
   "source": [
    "**Question 6: This one is simple**\n",
    "\n",
    "Look at the factor of difficulty increase from each level to the subsequent level, printed from the cell above.\n",
    "\n",
    "What whould the factor of difficulty increase be for each level: **Your answer Here**"
   ]
  }
 ],
 "metadata": {
  "kernelspec": {
   "display_name": "Python 3 (ipykernel)",
   "language": "python",
   "name": "python3"
  },
  "language_info": {
   "codemirror_mode": {
    "name": "ipython",
    "version": 3
   },
   "file_extension": ".py",
   "mimetype": "text/x-python",
   "name": "python",
   "nbconvert_exporter": "python",
   "pygments_lexer": "ipython3",
   "version": "3.9.5"
  }
 },
 "nbformat": 4,
 "nbformat_minor": 2
}
